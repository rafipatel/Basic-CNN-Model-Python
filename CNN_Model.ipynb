{
  "nbformat": 4,
  "nbformat_minor": 0,
  "metadata": {
    "colab": {
      "name": "From Scratch Basic CNN Model.ipynb",
      "provenance": [],
      "collapsed_sections": []
    },
    "kernelspec": {
      "name": "python3",
      "display_name": "Python 3"
    },
    "language_info": {
      "name": "python"
    },
    "accelerator": "GPU"
  },
  "cells": [
    {
      "cell_type": "code",
      "execution_count": null,
      "metadata": {
        "id": "Sk9cxvfZw4U9"
      },
      "outputs": [],
      "source": [
        "import tensorflow as tf\n",
        "from tensorflow.keras.preprocessing.image import ImageDataGenerator\n",
        "from tensorflow.keras.preprocessing import image\n",
        "from tensorflow.keras.optimizers import RMSprop\n",
        "import matplotlib.pyplot as plt\n",
        "import numpy as np\n",
        "import cv2\n",
        "import os"
      ]
    },
    {
      "cell_type": "markdown",
      "source": [
        "##EDA"
      ],
      "metadata": {
        "id": "hbKxdzskCQuL"
      }
    },
    {
      "cell_type": "code",
      "source": [
        "img = image.load_img(\"/content/drive/MyDrive/ASSIGNMENT DATASET/toy_train/circle/101.jpg\")"
      ],
      "metadata": {
        "id": "My2LTbTqyH8Q"
      },
      "execution_count": null,
      "outputs": []
    },
    {
      "cell_type": "code",
      "source": [
        "plt.imshow(img)"
      ],
      "metadata": {
        "colab": {
          "base_uri": "https://localhost:8080/",
          "height": 286
        },
        "id": "URMbZSfQyH_g",
        "outputId": "7a8ff33b-04a9-4e38-ad68-dbf3fb5dc4fb"
      },
      "execution_count": null,
      "outputs": [
        {
          "output_type": "execute_result",
          "data": {
            "text/plain": [
              "<matplotlib.image.AxesImage at 0x7fec8b0afed0>"
            ]
          },
          "metadata": {},
          "execution_count": 5
        },
        {
          "output_type": "display_data",
          "data": {
            "image/png": "[encoded data removed]",
            "text/plain": [
              "<Figure size 432x288 with 1 Axes>"
            ]
          },
          "metadata": {
            "needs_background": "light"
          }
        }
      ]
    },
    {
      "cell_type": "code",
      "source": [
        "cv2.imread(\"/content/drive/MyDrive/ASSIGNMENT DATASET/toy_train/circle/101.jpg\").shape"
      ],
      "metadata": {
        "colab": {
          "base_uri": "https://localhost:8080/"
        },
        "id": "_25aLmVuyICR",
        "outputId": "5436f60a-b3dc-4867-bfa1-7cfbc9d598f0"
      },
      "execution_count": null,
      "outputs": [
        {
          "output_type": "execute_result",
          "data": {
            "text/plain": [
              "(64, 64, 3)"
            ]
          },
          "metadata": {},
          "execution_count": 8
        }
      ]
    },
    {
      "cell_type": "code",
      "source": [
        "train_rescale = ImageDataGenerator(rescale = 1/255)\n",
        "valid_rescale = ImageDataGenerator(rescale = 1/255)"
      ],
      "metadata": {
        "id": "_u64EgD6yIF6"
      },
      "execution_count": null,
      "outputs": []
    },
    {
      "cell_type": "code",
      "source": [
        "train_dataset = train_rescale.flow_from_directory(\"/content/drive/MyDrive/ASSIGNMENT DATASET/toy_train\",\n",
        "                                          batch_size = 50,target_size = (64,64),\n",
        "                                          class_mode = \"binary\")\n",
        "valid_dataset = valid_rescale.flow_from_directory(\"/content/drive/MyDrive/ASSIGNMENT DATASET/toy_val\",\n",
        "                                          batch_size = 50, target_size = (64,64),\n",
        "                                          class_mode = \"binary\")\n",
        "\n"
      ],
      "metadata": {
        "colab": {
          "base_uri": "https://localhost:8080/"
        },
        "id": "7-1nLOxdzNWJ",
        "outputId": "00f7c509-a389-4d84-c25b-155fa9422308"
      },
      "execution_count": null,
      "outputs": [
        {
          "output_type": "stream",
          "name": "stdout",
          "text": [
            "Found 1000 images belonging to 2 classes.\n",
            "Found 190 images belonging to 2 classes.\n"
          ]
        }
      ]
    },
    {
      "cell_type": "code",
      "source": [
        "train_dataset.class_indices"
      ],
      "metadata": {
        "colab": {
          "base_uri": "https://localhost:8080/"
        },
        "id": "uiDVC8HKzNbE",
        "outputId": "e15ca90b-d12c-474f-a690-5fecb292a562"
      },
      "execution_count": null,
      "outputs": [
        {
          "output_type": "execute_result",
          "data": {
            "text/plain": [
              "{'circle': 0, 'rectangle': 1}"
            ]
          },
          "metadata": {},
          "execution_count": 44
        }
      ]
    },
    {
      "cell_type": "code",
      "source": [
        "valid_dataset.classes"
      ],
      "metadata": {
        "colab": {
          "base_uri": "https://localhost:8080/"
        },
        "id": "r1Rxdn_qzNdm",
        "outputId": "353ef6b6-916a-4ab6-9f3b-70c54b5d35d4"
      },
      "execution_count": null,
      "outputs": [
        {
          "output_type": "execute_result",
          "data": {
            "text/plain": [
              "array([0, 0, 0, 0, 0, 0, 0, 0, 0, 0, 0, 0, 0, 0, 0, 0, 0, 0, 0, 0, 0, 0,\n",
              "       0, 0, 0, 0, 0, 0, 0, 0, 0, 0, 0, 0, 0, 0, 0, 0, 0, 0, 0, 0, 0, 0,\n",
              "       0, 0, 0, 0, 0, 0, 0, 0, 0, 0, 0, 0, 0, 0, 0, 0, 0, 0, 0, 0, 0, 0,\n",
              "       0, 0, 0, 0, 0, 0, 0, 0, 0, 0, 0, 0, 0, 0, 0, 0, 0, 0, 0, 0, 0, 0,\n",
              "       0, 0, 0, 0, 0, 1, 1, 1, 1, 1, 1, 1, 1, 1, 1, 1, 1, 1, 1, 1, 1, 1,\n",
              "       1, 1, 1, 1, 1, 1, 1, 1, 1, 1, 1, 1, 1, 1, 1, 1, 1, 1, 1, 1, 1, 1,\n",
              "       1, 1, 1, 1, 1, 1, 1, 1, 1, 1, 1, 1, 1, 1, 1, 1, 1, 1, 1, 1, 1, 1,\n",
              "       1, 1, 1, 1, 1, 1, 1, 1, 1, 1, 1, 1, 1, 1, 1, 1, 1, 1, 1, 1, 1, 1,\n",
              "       1, 1, 1, 1, 1, 1, 1, 1, 1, 1, 1, 1, 1, 1], dtype=int32)"
            ]
          },
          "metadata": {},
          "execution_count": 16
        }
      ]
    },
    {
      "cell_type": "markdown",
      "source": [
        "##MODEL\n",
        "\n"
      ],
      "metadata": {
        "id": "rb8aPFPpCedv"
      }
    },
    {
      "cell_type": "code",
      "source": [
        "model = tf.keras.models.Sequential([tf.keras.layers.Conv2D(16,(3,3),activation='relu',input_shape = (64,64,3)),\n",
        "                                    tf.keras.layers.MaxPool2D(2,2),\n",
        "                                    \n",
        "                                    tf.keras.layers.Conv2D(32,(3,3),activation='relu'),\n",
        "                                    tf.keras.layers.MaxPool2D(2,2),\n",
        "\n",
        "                                    tf.keras.layers.Conv2D(64,(3,3),activation='relu'),\n",
        "                                    tf.keras.layers.MaxPool2D(2,2),\n",
        "\n",
        "                                    tf.keras.layers.Flatten(),\n",
        "                                    tf.keras.layers.Dense(512,activation = \"relu\"),\n",
        "                                    tf.keras.layers.Dense(1,activation = \"sigmoid\")])\n",
        "\n",
        "\n",
        "\n",
        "\n",
        "\n",
        "                                    "
      ],
      "metadata": {
        "id": "plJYdIfHzNf9"
      },
      "execution_count": null,
      "outputs": []
    },
    {
      "cell_type": "code",
      "source": [
        "model.compile(loss = \"binary_crossentropy\",optimizer='adam',metrics = ['accuracy'])"
      ],
      "metadata": {
        "id": "en6yuVT9zNij"
      },
      "execution_count": null,
      "outputs": []
    },
    {
      "cell_type": "code",
      "source": [
        "model_fit = model.fit_generator(train_dataset,\n",
        "                     steps_per_epoch =len(train_dataset),\n",
        "                     epochs = 10,\n",
        "                     validation_data = valid_dataset,\n",
        "                     validation_steps=len(valid_dataset))"
      ],
      "metadata": {
        "colab": {
          "base_uri": "https://localhost:8080/"
        },
        "id": "zUHhF0mjzNkx",
        "outputId": "9882c1af-c913-44cb-a53c-948217d43686"
      },
      "execution_count": null,
      "outputs": [
        {
          "output_type": "stream",
          "name": "stdout",
          "text": [
            "Epoch 1/10\n"
          ]
        },
        {
          "output_type": "stream",
          "name": "stderr",
          "text": [
            "/usr/local/lib/python3.7/dist-packages/ipykernel_launcher.py:5: UserWarning: `Model.fit_generator` is deprecated and will be removed in a future version. Please use `Model.fit`, which supports generators.\n",
            "  \"\"\"\n"
          ]
        },
        {
          "output_type": "stream",
          "name": "stdout",
          "text": [
            "20/20 [==============================] - 4s 154ms/step - loss: 0.0892 - accuracy: 0.9720 - val_loss: 0.0350 - val_accuracy: 0.9947\n",
            "Epoch 2/10\n",
            "20/20 [==============================] - 3s 143ms/step - loss: 0.0127 - accuracy: 0.9980 - val_loss: 0.0060 - val_accuracy: 0.9947\n",
            "Epoch 3/10\n",
            "20/20 [==============================] - 3s 142ms/step - loss: 0.0012 - accuracy: 1.0000 - val_loss: 0.0048 - val_accuracy: 1.0000\n",
            "Epoch 4/10\n",
            "20/20 [==============================] - 3s 141ms/step - loss: 4.3006e-04 - accuracy: 1.0000 - val_loss: 0.0013 - val_accuracy: 1.0000\n",
            "Epoch 5/10\n",
            "20/20 [==============================] - 3s 143ms/step - loss: 2.7833e-04 - accuracy: 1.0000 - val_loss: 9.7750e-04 - val_accuracy: 1.0000\n",
            "Epoch 6/10\n",
            "20/20 [==============================] - 3s 140ms/step - loss: 2.2429e-04 - accuracy: 1.0000 - val_loss: 8.7937e-04 - val_accuracy: 1.0000\n",
            "Epoch 7/10\n",
            "20/20 [==============================] - 3s 145ms/step - loss: 1.8401e-04 - accuracy: 1.0000 - val_loss: 8.0632e-04 - val_accuracy: 1.0000\n",
            "Epoch 8/10\n",
            "20/20 [==============================] - 3s 141ms/step - loss: 1.5178e-04 - accuracy: 1.0000 - val_loss: 7.3354e-04 - val_accuracy: 1.0000\n",
            "Epoch 9/10\n",
            "20/20 [==============================] - 3s 142ms/step - loss: 1.2547e-04 - accuracy: 1.0000 - val_loss: 6.6034e-04 - val_accuracy: 1.0000\n",
            "Epoch 10/10\n",
            "20/20 [==============================] - 3s 142ms/step - loss: 1.0423e-04 - accuracy: 1.0000 - val_loss: 5.9431e-04 - val_accuracy: 1.0000\n"
          ]
        }
      ]
    },
    {
      "cell_type": "markdown",
      "source": [
        "##TESTING"
      ],
      "metadata": {
        "id": "rSn0IY_4B58x"
      }
    },
    {
      "cell_type": "code",
      "source": [
        "# Removed 5-5 images of circle and rectangle from validation dataset and used it for Testing\n",
        "\n",
        "test_dir = \"/content/test\"\n",
        "\n",
        "for each_image in os.listdir(test_dir):\n",
        "  img = image.load_img(test_dir +'/' + each_image )\n",
        "  plt.imshow(img)\n",
        "  plt.show()\n",
        "\n",
        "  X = image.img_to_array(img)\n",
        "  X = np.expand_dims(X,axis = 0)\n",
        "  images = np.vstack([X])\n",
        "  val = model.predict(images)\n",
        "\n",
        "  if val == 0:\n",
        "    print(\"It's a Circle\")\n",
        "  else:\n",
        "    print(\"It's a Rectangle\")  \n",
        "\n",
        "\n",
        "\n"
      ],
      "metadata": {
        "colab": {
          "base_uri": "https://localhost:8080/",
          "height": 1000
        },
        "id": "N9ozWs3vzNnY",
        "outputId": "78b8daa1-4918-4fd4-a966-8825372ae05f"
      },
      "execution_count": null,
      "outputs": [
        {
          "output_type": "display_data",
          "data": {
            "image/png": "[encoded data removed]",
            "text/plain": [
              "<Figure size 432x288 with 1 Axes>"
            ]
          },
          "metadata": {
            "needs_background": "light"
          }
        },
        {
          "output_type": "stream",
          "name": "stdout",
          "text": [
            "It's a Rectangle\n"
          ]
        },
        {
          "output_type": "display_data",
          "data": {
            "image/png": "[encoded data removed]",
            "text/plain": [
              "<Figure size 432x288 with 1 Axes>"
            ]
          },
          "metadata": {
            "needs_background": "light"
          }
        },
        {
          "output_type": "stream",
          "name": "stdout",
          "text": [
            "It's a Circle\n"
          ]
        },
        {
          "output_type": "display_data",
          "data": {
            "image/png": "[encoded data removed]",
            "text/plain": [
              "<Figure size 432x288 with 1 Axes>"
            ]
          },
          "metadata": {
            "needs_background": "light"
          }
        },
        {
          "output_type": "stream",
          "name": "stdout",
          "text": [
            "It's a Rectangle\n"
          ]
        },
        {
          "output_type": "display_data",
          "data": {
            "image/png": "[encoded data removed]",
            "text/plain": [
              "<Figure size 432x288 with 1 Axes>"
            ]
          },
          "metadata": {
            "needs_background": "light"
          }
        },
        {
          "output_type": "stream",
          "name": "stdout",
          "text": [
            "It's a Rectangle\n"
          ]
        },
        {
          "output_type": "display_data",
          "data": {
            "image/png": "[encoded data removed]",
            "text/plain": [
              "<Figure size 432x288 with 1 Axes>"
            ]
          },
          "metadata": {
            "needs_background": "light"
          }
        },
        {
          "output_type": "stream",
          "name": "stdout",
          "text": [
            "It's a Circle\n"
          ]
        },
        {
          "output_type": "display_data",
          "data": {
            "image/png": "[encoded data removed]",
            "text/plain": [
              "<Figure size 432x288 with 1 Axes>"
            ]
          },
          "metadata": {
            "needs_background": "light"
          }
        },
        {
          "output_type": "stream",
          "name": "stdout",
          "text": [
            "It's a Circle\n"
          ]
        },
        {
          "output_type": "display_data",
          "data": {
            "image/png": "[encoded data removed]",
            "text/plain": [
              "<Figure size 432x288 with 1 Axes>"
            ]
          },
          "metadata": {
            "needs_background": "light"
          }
        },
        {
          "output_type": "stream",
          "name": "stdout",
          "text": [
            "It's a Circle\n"
          ]
        },
        {
          "output_type": "display_data",
          "data": {
            "image/png": "[encoded data removed]",
            "text/plain": [
              "<Figure size 432x288 with 1 Axes>"
            ]
          },
          "metadata": {
            "needs_background": "light"
          }
        },
        {
          "output_type": "stream",
          "name": "stdout",
          "text": [
            "It's a Rectangle\n"
          ]
        },
        {
          "output_type": "display_data",
          "data": {
            "image/png": "[encoded data removed]",
            "text/plain": [
              "<Figure size 432x288 with 1 Axes>"
            ]
          },
          "metadata": {
            "needs_background": "light"
          }
        },
        {
          "output_type": "stream",
          "name": "stdout",
          "text": [
            "It's a Circle\n"
          ]
        },
        {
          "output_type": "display_data",
          "data": {
            "image/png": "[encoded data removed]",
            "text/plain": [
              "<Figure size 432x288 with 1 Axes>"
            ]
          },
          "metadata": {
            "needs_background": "light"
          }
        },
        {
          "output_type": "stream",
          "name": "stdout",
          "text": [
            "It's a Rectangle\n"
          ]
        }
      ]
    },
    {
      "cell_type": "code",
      "source": [
        ""
      ],
      "metadata": {
        "id": "VxlbkB7zzNtJ"
      },
      "execution_count": null,
      "outputs": []
    },
    {
      "cell_type": "code",
      "source": [
        ""
      ],
      "metadata": {
        "id": "hqsDpqFpzNwT"
      },
      "execution_count": null,
      "outputs": []
    }
  ]
}